{
  "nbformat": 4,
  "nbformat_minor": 0,
  "metadata": {
    "colab": {
      "provenance": []
    },
    "kernelspec": {
      "name": "python3",
      "display_name": "Python 3"
    },
    "language_info": {
      "name": "python"
    }
  },
  "cells": [
    {
      "cell_type": "markdown",
      "source": [
        "# Python Basics\n"
      ],
      "metadata": {
        "id": "ntIWHAJrwA9Y"
      }
    },
    {
      "cell_type": "markdown",
      "source": [
        "1. What is Python, and why is it popular?\n",
        "   - Python is a high-level, interpreted programming language known for its simplicity and readability. It was created by Guido van Rossum and first released in 1991. Python’s design philosophy emphasizes code readability with its clear and straightforward syntax, which makes it easier to write and understand.\n",
        "  \n",
        "   Python is popular for below reasons:\n",
        "\n",
        "Easy to Learn and Use: Its simple syntax is very close to plain English, making it accessible for beginners.\n",
        "\n",
        "Versatile: You can use Python for web development, data science, artificial intelligence, automation, scientific computing, scripting, game development, and much more.\n",
        "\n",
        "Huge Community and Libraries: Python has a massive and active community, which means tons of libraries and frameworks are available to help with almost any task (like Django for web, Pandas and NumPy for data, TensorFlow for AI, etc.).\n",
        "\n",
        "Cross-platform: Python runs on Windows, macOS, Linux, and many other systems without needing to change your code much.\n",
        "\n",
        "Integration: Python easily integrates with other languages and tools, making it useful for both quick scripts and complex projects.\n",
        "\n",
        "Open Source: Python is free and open source, encouraging sharing and collaboration.\n",
        "\n",
        "2. What is an interpreter in Python?\n",
        "   - An interpreter in Python is the program that reads and executes Python code line by line.\n",
        "\n",
        "3. What are pre-defined keywords in Python?\n",
        "   - Pre-defined keywords in Python are reserved words that have special meanings in the language. You cannot use them as variable names or identifiers because they are part of the Python syntax.\n",
        "\n",
        "Structure (like if, else, while)\n",
        "\n",
        "Data types (True, False, None)\n",
        "\n",
        "Functions and classes (def, class, return)\n",
        "\n",
        "Error handling (try, except, finally)\n",
        "\n",
        "4. Can keywords be used as variable names?\n",
        "   - No, keywords cannot be used as variable names in Python.\n",
        "\n",
        "5. What is mutability in Python?\n",
        "   - Mutability in Python refers to whether or not an object’s value can be changed after it is created.\n",
        "\n",
        "6. Why are lists mutable, but tuples are immutable?\n",
        "   -  Lists Are Mutable\n",
        "\n",
        "Use Case: Lists are designed to store collections that may need to change—add, remove, or update items.\n",
        "\n",
        "Behavior: You can modify a list in-place.\n",
        "\n",
        "Tuples Are Immutable\n",
        "\n",
        "Use Case: Tuples are used for fixed collections of items that shouldn’t change, like coordinates (x, y), or to use as keys in a dictionary.\n",
        "\n",
        "Behavior: Once created, a tuple’s contents cannot be changed.\n",
        "\n",
        "7. What is the difference between “==” and “is” operators in Python?\n",
        "   - Equal operator checks if two values are equal in content whereas \"is\" operator checks whether two variables point to the exact same object in memory.\n",
        "\n",
        "8. What are logical operators in Python?\n",
        "   - In Python, logical operators are used to combine or invert boolean expressions—they help you make decisions based on multiple conditions.\n",
        "\n",
        "9. What is type casting in Python?\n",
        "   - Type casting in Python is the process of converting one data type into another, either automatically (implicit) or manually (explicit).\n",
        "\n",
        "10. What is the difference between implicit and explicit type casting?\n",
        "    - implicit automatically converts one data type to another when it makes sense.\n",
        "     explicit manually convert data types using built-in functions like int(), float(), str(), etc.\n",
        "\n",
        "11. What is the purpose of conditional statements in Python?\n",
        "    - Conditional statements in Python are used to make decisions in your code — they let your program execute different actions based on whether a condition is true or false.\n",
        "\n",
        "12.  How does the elif statement work?\n",
        "     - How elif works:\n",
        "You start with an if condition.\n",
        "\n",
        "If the if condition is False, Python moves to the first elif condition and checks it.\n",
        "\n",
        "If that elif is also False, it moves on to the next elif (if any), and so on.\n",
        "\n",
        "If none of the if or elif conditions are True, Python runs the else block (if present).\n",
        "\n",
        "13. What is the difference between for and while loops?\n",
        "    - 🔄 for loop\n",
        "\n",
        "Used when you know how many times you want to loop or want to iterate over a collection (like a list, tuple, string, range).\n",
        "\n",
        "It iterates over items directly.\n",
        "\n",
        "🔁 while loop\n",
        "\n",
        "Used when you want to loop until a certain condition becomes False.\n",
        "\n",
        "The number of iterations might not be known beforehand.\n",
        "\n",
        "14.  Describe a scenario where a while loop is more suitable than a for loop.\n",
        "     - Scenario: Waiting for User Input Until They Enter a Valid Response\n",
        "Imagine you’re building a program that asks the user to enter a password and keeps asking until they enter the correct one.\n",
        "\n",
        "You don’t know in advance how many times the user will enter the wrong password.\n",
        "\n",
        "So, you want to keep looping until a certain condition is met (correct password entered).\n",
        "\n",
        "Why while loop is better here:\n",
        "The number of attempts is not fixed.\n",
        "\n",
        "The loop depends on a condition that changes dynamically (the user’s input).\n",
        "\n",
        "Example code:\n",
        "python\n",
        "Copy\n",
        "Edit\n",
        "correct_password = \"python123\"\n",
        "user_input = \"\"\n",
        "\n",
        "while user_input != correct_password:\n",
        "    user_input = input(\"Enter your password: \")\n",
        "    if user_input != correct_password:\n",
        "        print(\"Incorrect password, try again.\")\n",
        "\n",
        "print(\"Access granted!\")\n",
        "\n",
        "\n",
        "\n"
      ],
      "metadata": {
        "id": "cQ4uzl7MwEI3"
      }
    },
    {
      "cell_type": "markdown",
      "source": [
        "1. Write a Python program to print \"Hello, World!\n"
      ],
      "metadata": {
        "id": "MBWYYxbcwY4Y"
      }
    },
    {
      "cell_type": "code",
      "source": [
        "\"Hello, World!\""
      ],
      "metadata": {
        "colab": {
          "base_uri": "https://localhost:8080/",
          "height": 35
        },
        "id": "Vt_HM4FG4QBk",
        "outputId": "35d7f6a7-f951-4d4c-dbde-4c0eccd97632"
      },
      "execution_count": null,
      "outputs": [
        {
          "output_type": "execute_result",
          "data": {
            "text/plain": [
              "'Hello, World!'"
            ],
            "application/vnd.google.colaboratory.intrinsic+json": {
              "type": "string"
            }
          },
          "metadata": {},
          "execution_count": 1
        }
      ]
    },
    {
      "cell_type": "markdown",
      "source": [
        "2. Write a Python program that displays your name and age"
      ],
      "metadata": {
        "id": "ZhpYUIZL4ce8"
      }
    },
    {
      "cell_type": "code",
      "source": [
        "input(\"My Name is \")\n",
        "input(\"My Age is \")"
      ],
      "metadata": {
        "colab": {
          "base_uri": "https://localhost:8080/",
          "height": 70
        },
        "id": "WZKjVSMQ4kfr",
        "outputId": "d9f979f0-30ab-4119-836a-4074149894a3"
      },
      "execution_count": null,
      "outputs": [
        {
          "name": "stdout",
          "output_type": "stream",
          "text": [
            "My Name is Rohit Wani\n",
            "My Age is 30\n"
          ]
        },
        {
          "output_type": "execute_result",
          "data": {
            "text/plain": [
              "'30'"
            ],
            "application/vnd.google.colaboratory.intrinsic+json": {
              "type": "string"
            }
          },
          "metadata": {},
          "execution_count": 2
        }
      ]
    },
    {
      "cell_type": "markdown",
      "source": [
        "3. Write code to print all the pre-defined keywords in Python using the keyword library."
      ],
      "metadata": {
        "id": "DMPsplG646dN"
      }
    },
    {
      "cell_type": "code",
      "source": [
        "import keyword\n",
        "keywords = keyword.kwlist\n",
        "print(\"Python Keywords:\")\n",
        "for kw in keywords:\n",
        "    print(kw)"
      ],
      "metadata": {
        "colab": {
          "base_uri": "https://localhost:8080/"
        },
        "id": "Ir7AnM-U4-Wr",
        "outputId": "5c73a717-13be-45cf-f6f2-0277760aed8f"
      },
      "execution_count": null,
      "outputs": [
        {
          "output_type": "stream",
          "name": "stdout",
          "text": [
            "Python Keywords:\n",
            "False\n",
            "None\n",
            "True\n",
            "and\n",
            "as\n",
            "assert\n",
            "async\n",
            "await\n",
            "break\n",
            "class\n",
            "continue\n",
            "def\n",
            "del\n",
            "elif\n",
            "else\n",
            "except\n",
            "finally\n",
            "for\n",
            "from\n",
            "global\n",
            "if\n",
            "import\n",
            "in\n",
            "is\n",
            "lambda\n",
            "nonlocal\n",
            "not\n",
            "or\n",
            "pass\n",
            "raise\n",
            "return\n",
            "try\n",
            "while\n",
            "with\n",
            "yield\n"
          ]
        }
      ]
    },
    {
      "cell_type": "markdown",
      "source": [
        "4. Write a program that checks if a given word is a Python keyword."
      ],
      "metadata": {
        "id": "zQmOcrKBCth-"
      }
    },
    {
      "cell_type": "code",
      "source": [
        "import keyword\n",
        "word = input(\"Enter a word to check if it's a Python keyword: \")\n",
        "if keyword.iskeyword(word):\n",
        "    print(f\"'{word}' is a Python keyword.\")\n",
        "else:\n",
        "    print(f\"'{word}' is not a Python keyword.\")"
      ],
      "metadata": {
        "colab": {
          "base_uri": "https://localhost:8080/"
        },
        "id": "JCLVVafdC379",
        "outputId": "eff0d101-15dd-4aae-e624-43042651cf4a"
      },
      "execution_count": null,
      "outputs": [
        {
          "output_type": "stream",
          "name": "stdout",
          "text": [
            "Enter a word to check if it's a Python keyword: type\n",
            "'type' is not a Python keyword.\n"
          ]
        }
      ]
    },
    {
      "cell_type": "code",
      "source": [
        "#5. Create a list and tuple in Python, and demonstrate how attempting to change an element works differently\n",
        "for each."
      ],
      "metadata": {
        "colab": {
          "base_uri": "https://localhost:8080/",
          "height": 106
        },
        "id": "e4o75WWbC4ja",
        "outputId": "7af96f24-f417-4f5e-ca11-e7fd727db0cb"
      },
      "execution_count": null,
      "outputs": [
        {
          "output_type": "error",
          "ename": "SyntaxError",
          "evalue": "invalid syntax (<ipython-input-12-89d859991cb3>, line 1)",
          "traceback": [
            "\u001b[0;36m  File \u001b[0;32m\"<ipython-input-12-89d859991cb3>\"\u001b[0;36m, line \u001b[0;32m1\u001b[0m\n\u001b[0;31m    5. Create a list and tuple in Python, and demonstrate how attempting to change an element works differently\u001b[0m\n\u001b[0m       ^\u001b[0m\n\u001b[0;31mSyntaxError\u001b[0m\u001b[0;31m:\u001b[0m invalid syntax\n"
          ]
        }
      ]
    },
    {
      "cell_type": "code",
      "source": [
        "my_list = [10, 20, 30]\n",
        "my_tuple = (10, 20, 30)\n",
        "print(\"Original list:\", my_list)\n",
        "my_list[1] = 99\n",
        "print(\"Modified list:\", my_list)\n",
        "print(\"\\nOriginal tuple:\", my_tuple)\n",
        "try:\n",
        "    my_tuple[1] = 99\n",
        "except TypeError as e:\n",
        "    print(\"Error while modifying tuple:\", e)"
      ],
      "metadata": {
        "colab": {
          "base_uri": "https://localhost:8080/"
        },
        "id": "yK3T2pyeDT6t",
        "outputId": "490ce27a-ff72-4b71-ce1d-afbb73def6a0"
      },
      "execution_count": null,
      "outputs": [
        {
          "output_type": "stream",
          "name": "stdout",
          "text": [
            "Original list: [10, 20, 30]\n",
            "Modified list: [10, 99, 30]\n",
            "\n",
            "Original tuple: (10, 20, 30)\n",
            "Error while modifying tuple: 'tuple' object does not support item assignment\n"
          ]
        }
      ]
    },
    {
      "cell_type": "markdown",
      "source": [
        "6. Write a function to demonstrate the behavior of mutable and immutable arguments."
      ],
      "metadata": {
        "id": "gMjEMcfHDr4d"
      }
    },
    {
      "cell_type": "code",
      "source": [
        "#mutable arguments\n",
        "def add_item(my_list):\n",
        "    my_list.append(\"apple\")\n",
        "    print(\"Inside function:\", my_list)\n",
        "\n",
        "fruits = [\"banana\", \"orange\"]\n",
        "\n",
        "print(\"Before function call:\", fruits)\n",
        "\n",
        "add_item(fruits)\n",
        "\n",
        "print(\"After function call:\", fruits)\n"
      ],
      "metadata": {
        "colab": {
          "base_uri": "https://localhost:8080/"
        },
        "id": "kmqfBAEnDxac",
        "outputId": "f1df35bb-8fe4-4422-9208-df327f6e3012"
      },
      "execution_count": null,
      "outputs": [
        {
          "output_type": "stream",
          "name": "stdout",
          "text": [
            "Before function call: ['banana', 'orange']\n",
            "Inside function: ['banana', 'orange', 'apple']\n",
            "After function call: ['banana', 'orange', 'apple']\n"
          ]
        }
      ]
    },
    {
      "cell_type": "code",
      "source": [
        "#immutable arguments\n",
        "def add_one(number):\n",
        "    number = number + 1\n",
        "    print(\"Inside function:\", number)\n",
        "\n",
        "x = 5\n",
        "\n",
        "print(\"Before function call:\", x)\n",
        "\n",
        "add_one(x)\n",
        "\n",
        "print(\"After function call:\", x)\n"
      ],
      "metadata": {
        "colab": {
          "base_uri": "https://localhost:8080/"
        },
        "id": "WyvGUMeLF62f",
        "outputId": "984353b4-df4f-442a-829d-17c8c1fd0c20"
      },
      "execution_count": null,
      "outputs": [
        {
          "output_type": "stream",
          "name": "stdout",
          "text": [
            "Before function call: 5\n",
            "Inside function: 6\n",
            "After function call: 5\n"
          ]
        }
      ]
    },
    {
      "cell_type": "markdown",
      "source": [
        "7. Write a program that performs basic arithmetic operations on two user-input numbers."
      ],
      "metadata": {
        "id": "sm-iBSe9GUXL"
      }
    },
    {
      "cell_type": "code",
      "source": [
        "a=5\n",
        "b=6\n",
        "a+b"
      ],
      "metadata": {
        "colab": {
          "base_uri": "https://localhost:8080/"
        },
        "id": "xLWzUdpBGmtE",
        "outputId": "5e63459e-430d-4a75-9800-af3799d77836"
      },
      "execution_count": null,
      "outputs": [
        {
          "output_type": "execute_result",
          "data": {
            "text/plain": [
              "11"
            ]
          },
          "metadata": {},
          "execution_count": 14
        }
      ]
    },
    {
      "cell_type": "markdown",
      "source": [
        "8. Write a program to demonstrate the use of logical operators."
      ],
      "metadata": {
        "id": "o0D_ut-4Gv5L"
      }
    },
    {
      "cell_type": "code",
      "source": [
        "# Define some boolean values\n",
        "a = True\n",
        "b = False\n",
        "\n",
        "print(\"a =\", a)\n",
        "print(\"b =\", b)\n",
        "\n",
        "# Logical AND\n",
        "print(\"\\na and b =\", a and b)  # True only if both are True\n",
        "\n",
        "# Logical OR\n",
        "print(\"a or b =\", a or b)      # True if at least one is True\n",
        "\n",
        "# Logical NOT\n",
        "print(\"not a =\", not a)        # Reverses the boolean value\n",
        "print(\"not b =\", not b)\n"
      ],
      "metadata": {
        "colab": {
          "base_uri": "https://localhost:8080/"
        },
        "id": "XsiEX55AGx-8",
        "outputId": "1974fc06-791e-4b83-a301-fd0e2f0ebbf1"
      },
      "execution_count": null,
      "outputs": [
        {
          "output_type": "stream",
          "name": "stdout",
          "text": [
            "a = True\n",
            "b = False\n",
            "\n",
            "a and b = False\n",
            "a or b = True\n",
            "not a = False\n",
            "not b = True\n"
          ]
        }
      ]
    },
    {
      "cell_type": "markdown",
      "source": [
        "9. Write a Python program to convert user input from string to integer, float, and boolean types"
      ],
      "metadata": {
        "id": "6dZSwuccG6wk"
      }
    },
    {
      "cell_type": "code",
      "source": [
        "a=\"1\"\n",
        "int(a)"
      ],
      "metadata": {
        "colab": {
          "base_uri": "https://localhost:8080/"
        },
        "id": "iQjghainHHck",
        "outputId": "5f040c37-0ab9-4df3-e9a3-f7d98e0ff986"
      },
      "execution_count": null,
      "outputs": [
        {
          "output_type": "execute_result",
          "data": {
            "text/plain": [
              "1"
            ]
          },
          "metadata": {},
          "execution_count": 22
        }
      ]
    },
    {
      "cell_type": "code",
      "source": [
        "b=\"2\"\n",
        "float(b)"
      ],
      "metadata": {
        "colab": {
          "base_uri": "https://localhost:8080/"
        },
        "id": "HoJvYdqrHX92",
        "outputId": "e47c8628-10f3-468b-eca8-4641803c3153"
      },
      "execution_count": null,
      "outputs": [
        {
          "output_type": "execute_result",
          "data": {
            "text/plain": [
              "2.0"
            ]
          },
          "metadata": {},
          "execution_count": 23
        }
      ]
    },
    {
      "cell_type": "code",
      "source": [
        "# Example string\n",
        "string_value = \"True\"\n",
        "\n",
        "# Convert to boolean\n",
        "bool_value = string_value.lower() == \"true\"\n",
        "\n",
        "print(bool_value)  # Output: True\n"
      ],
      "metadata": {
        "colab": {
          "base_uri": "https://localhost:8080/"
        },
        "id": "F0k3V_hVHswB",
        "outputId": "ecebe5f2-d896-47d9-8759-6f95e48ff165"
      },
      "execution_count": null,
      "outputs": [
        {
          "output_type": "stream",
          "name": "stdout",
          "text": [
            "True\n"
          ]
        }
      ]
    },
    {
      "cell_type": "markdown",
      "source": [
        "10. Write code to demonstrate type casting with list elements."
      ],
      "metadata": {
        "id": "nS3VbGMuIsl0"
      }
    },
    {
      "cell_type": "code",
      "source": [
        "# List of strings\n",
        "string_numbers = [\"1\", \"2\", \"3\", \"4.5\", \"6.7\"]\n",
        "\n",
        "# Convert all elements to integers (this will fail for floats like \"4.5\")\n",
        "try:\n",
        "    int_list = [int(x) for x in string_numbers]\n",
        "except ValueError as e:\n",
        "    print(\"Cannot convert to int:\", e)\n",
        "\n",
        "# Convert all elements to floats (this works for both integers and decimals)\n",
        "float_list = [float(x) for x in string_numbers]\n",
        "\n",
        "print(\"Original list:\", string_numbers)\n",
        "print(\"As floats:\", float_list)\n"
      ],
      "metadata": {
        "colab": {
          "base_uri": "https://localhost:8080/"
        },
        "id": "5NCAdKrBI257",
        "outputId": "373f36bd-f78e-4be2-8725-55e316bdbb00"
      },
      "execution_count": null,
      "outputs": [
        {
          "output_type": "stream",
          "name": "stdout",
          "text": [
            "Cannot convert to int: invalid literal for int() with base 10: '4.5'\n",
            "Original list: ['1', '2', '3', '4.5', '6.7']\n",
            "As floats: [1.0, 2.0, 3.0, 4.5, 6.7]\n"
          ]
        }
      ]
    },
    {
      "cell_type": "markdown",
      "source": [
        "11. Write a program that checks if a number is positive, negative, or zero."
      ],
      "metadata": {
        "id": "YXuaTvJ1JEAE"
      }
    },
    {
      "cell_type": "code",
      "source": [
        "# Get input from the user\n",
        "num = float(input(\"Enter a number: \"))\n",
        "\n",
        "# Check if the number is positive, negative, or zero\n",
        "if num > 0:\n",
        "    print(\"The number is positive.\")\n",
        "elif num < 0:\n",
        "    print(\"The number is negative.\")\n",
        "else:\n",
        "    print(\"The number is zero.\")\n"
      ],
      "metadata": {
        "colab": {
          "base_uri": "https://localhost:8080/"
        },
        "id": "yGZjpAM-JIsF",
        "outputId": "fab1f1c7-73f1-4760-e8d3-b97c556ef4c1"
      },
      "execution_count": null,
      "outputs": [
        {
          "output_type": "stream",
          "name": "stdout",
          "text": [
            "Enter a number: 8\n",
            "The number is positive.\n"
          ]
        }
      ]
    },
    {
      "cell_type": "markdown",
      "source": [
        "12. Write a for loop to print numbers from 1 to 10."
      ],
      "metadata": {
        "id": "JrvK-7-8JN3s"
      }
    },
    {
      "cell_type": "code",
      "source": [
        "for i in range(1, 11):\n",
        "    print(i)\n"
      ],
      "metadata": {
        "colab": {
          "base_uri": "https://localhost:8080/"
        },
        "id": "Ze92bCfvJWJs",
        "outputId": "49aeddf5-24aa-4b90-92bb-04cf94943404"
      },
      "execution_count": null,
      "outputs": [
        {
          "output_type": "stream",
          "name": "stdout",
          "text": [
            "1\n",
            "2\n",
            "3\n",
            "4\n",
            "5\n",
            "6\n",
            "7\n",
            "8\n",
            "9\n",
            "10\n"
          ]
        }
      ]
    },
    {
      "cell_type": "markdown",
      "source": [
        "13. Write a Python program to find the sum of all even numbers between 1 and 50."
      ],
      "metadata": {
        "id": "GYlVNx9GJa69"
      }
    },
    {
      "cell_type": "code",
      "source": [
        "total = 0\n",
        "\n",
        "for num in range(1, 51):\n",
        "    if num % 2 == 0:\n",
        "        total += num\n",
        "\n",
        "print(\"Sum of even numbers between 1 and 50 is:\", total)\n"
      ],
      "metadata": {
        "colab": {
          "base_uri": "https://localhost:8080/"
        },
        "id": "vu4wBipJJeCE",
        "outputId": "4300c1b9-374a-4c76-cbbe-3d136d325d9f"
      },
      "execution_count": null,
      "outputs": [
        {
          "output_type": "stream",
          "name": "stdout",
          "text": [
            "Sum of even numbers between 1 and 50 is: 650\n"
          ]
        }
      ]
    },
    {
      "cell_type": "markdown",
      "source": [
        "14. Write a program to reverse a string using a while loop."
      ],
      "metadata": {
        "id": "Wr2fSQXBJy1U"
      }
    },
    {
      "cell_type": "code",
      "source": [
        "# Input string from the user\n",
        "original_str = input(\"Enter a string: \")\n",
        "\n",
        "reversed_str = \"\"\n",
        "index = len(original_str) - 1\n",
        "\n",
        "# Loop from the end to the beginning of the string\n",
        "while index >= 0:\n",
        "    reversed_str += original_str[index]\n",
        "    index -= 1\n",
        "\n",
        "print(\"Reversed string:\", reversed_str)\n"
      ],
      "metadata": {
        "id": "tK9u7PlyJoxt"
      },
      "execution_count": null,
      "outputs": []
    },
    {
      "cell_type": "markdown",
      "source": [
        "5. Write a Python program to calculate the factorial of a number provided by the user using a while loop"
      ],
      "metadata": {
        "id": "UTDI9uD8J-4N"
      }
    },
    {
      "cell_type": "code",
      "source": [
        "# Get input from the user\n",
        "num = int(input(\"Enter a non-negative integer: \"))\n",
        "\n",
        "# Initialize factorial result\n",
        "factorial = 1\n",
        "\n",
        "# Check for negative input\n",
        "if num < 0:\n",
        "    print(\"Factorial is not defined for negative numbers.\")\n",
        "else:\n",
        "    # Calculate factorial using a while loop\n",
        "    i = num\n",
        "    while i > 1:\n",
        "        factorial *= i\n",
        "        i -= 1\n",
        "\n",
        "    print(f\"Factorial of {num} is {factorial}\")\n"
      ],
      "metadata": {
        "id": "mzrlX4RwKCG8"
      },
      "execution_count": null,
      "outputs": []
    },
    {
      "cell_type": "markdown",
      "source": [
        "6. Write a function to demonstrate the behavior of mutable and immutable arguments"
      ],
      "metadata": {
        "id": "9uWGdd2mTzN5"
      }
    },
    {
      "cell_type": "code",
      "source": [
        "def demonstrate_mutable_immutable(num, num_list):\n",
        "    print(\"Before modification:\")\n",
        "    print(\"num =\", num)\n",
        "    print(\"num_list =\", num_list)\n",
        "\n",
        "    # Try modifying the immutable argument\n",
        "    num += 10  # This will not change the original variable outside the function\n",
        "\n",
        "    # Try modifying the mutable argument\n",
        "    num_list.append(100)  # This *will* change the original list outside the function\n",
        "\n",
        "    print(\"\\nAfter modification inside the function:\")\n",
        "    print(\"num =\", num)\n",
        "    print(\"num_list =\", num_list)\n",
        "\n",
        "# Test the function\n",
        "x = 5\n",
        "y = [1, 2, 3]\n",
        "\n",
        "print(\"Original values before function call:\")\n",
        "print(\"x =\", x)\n",
        "print(\"y =\", y)\n",
        "\n",
        "demonstrate_mutable_immutable(x, y)\n",
        "\n",
        "print(\"\\nValues after function call:\")\n",
        "print(\"x =\", x)  # Unchanged\n",
        "print(\"y =\", y)  # Changed\n"
      ],
      "metadata": {
        "id": "gLmCkaDZT82B"
      },
      "execution_count": null,
      "outputs": []
    },
    {
      "cell_type": "markdown",
      "source": [
        "7. Write a program that performs basic arithmetic operations on two user-input numbers."
      ],
      "metadata": {
        "id": "cXl_J4o-UASx"
      }
    },
    {
      "cell_type": "code",
      "source": [
        "a=5\n",
        "b=6\n",
        "a+b"
      ],
      "metadata": {
        "id": "co32XiQxUFDh"
      },
      "execution_count": null,
      "outputs": []
    },
    {
      "cell_type": "markdown",
      "source": [
        "8. Write a program to demonstrate the use of logical operators."
      ],
      "metadata": {
        "id": "vvdAZYZLUUnH"
      }
    },
    {
      "cell_type": "code",
      "source": [
        "def demonstrate_logical_operators(a, b):\n",
        "    print(\"Values: a =\", a, \", b =\", b)\n",
        "\n",
        "    # AND operator\n",
        "    if a > 0 and b > 0:\n",
        "        print(\"Both a and b are positive.\")\n",
        "    else:\n",
        "        print(\"At least one of a or b is not positive.\")\n",
        "\n",
        "    # OR operator\n",
        "    if a > 0 or b > 0:\n",
        "        print(\"At least one of a or b is positive.\")\n",
        "    else:\n",
        "        print(\"Neither a nor b is positive.\")\n",
        "\n",
        "    # NOT operator\n",
        "    if not (a < 0):\n",
        "        print(\"a is not negative.\")\n",
        "    else:\n",
        "        print(\"a is negative.\")\n",
        "\n",
        "# Test the function with different values\n",
        "demonstrate_logical_operators(10, -5)\n"
      ],
      "metadata": {
        "id": "JV7xt9vgUaYV"
      },
      "execution_count": null,
      "outputs": []
    },
    {
      "cell_type": "markdown",
      "source": [
        "9. Write a Python program to convert user input from string to integer, float, and boolean types."
      ],
      "metadata": {
        "id": "o3bmUkHbUg8h"
      }
    },
    {
      "cell_type": "code",
      "source": [
        "def convert_input():\n",
        "    user_input = input(\"Enter a value: \")\n",
        "\n",
        "    # Convert to Integer\n",
        "    try:\n",
        "        int_value = int(user_input)\n",
        "        print(\"Integer conversion:\", int_value)\n",
        "    except ValueError:\n",
        "        print(\"Cannot convert to Integer.\")\n",
        "\n",
        "    # Convert to Float\n",
        "    try:\n",
        "        float_value = float(user_input)\n",
        "        print(\"Float conversion:\", float_value)\n",
        "    except ValueError:\n",
        "        print(\"Cannot convert to Float.\")\n",
        "\n",
        "    # Convert to Boolean\n",
        "    bool_value = user_input.lower() in ['true', '1', 'yes', 'y']\n",
        "    print(\"Boolean conversion:\", bool_value)\n",
        "\n",
        "# Run the function\n",
        "convert_input()\n"
      ],
      "metadata": {
        "id": "6saskshgUa6R"
      },
      "execution_count": null,
      "outputs": []
    },
    {
      "cell_type": "markdown",
      "source": [
        "10. Write code to demonstrate type casting with list elements."
      ],
      "metadata": {
        "id": "sek6bD9tUsIl"
      }
    },
    {
      "cell_type": "code",
      "source": [
        "def demonstrate_type_casting():\n",
        "    # Original list with string numbers\n",
        "    str_list = ['1', '2', '3', '4.5', '5.6']\n",
        "\n",
        "    print(\"Original list (strings):\", str_list)\n",
        "\n",
        "    # Convert to integers (skip items that can't be converted)\n",
        "    int_list = []\n",
        "    for item in str_list:\n",
        "        try:\n",
        "            int_list.append(int(float(item)))  # Handles '4.5' by casting to float first\n",
        "        except ValueError:\n",
        "            print(f\"Cannot convert '{item}' to integer.\")\n",
        "    print(\"List converted to integers:\", int_list)\n",
        "\n",
        "    # Convert to floats\n",
        "    float_list = [float(item) for item in str_list]\n",
        "    print(\"List converted to floats:\", float_list)\n",
        "\n",
        "    # Convert floats to strings again\n",
        "    str_from_floats = [str(num) for num in float_list]\n",
        "    print(\"Floats converted back to strings:\", str_from_floats)\n",
        "\n",
        "# Run the function\n",
        "demonstrate_type_casting()\n"
      ],
      "metadata": {
        "id": "U5xq46XJUqNV"
      },
      "execution_count": null,
      "outputs": []
    },
    {
      "cell_type": "markdown",
      "source": [
        "11. Write a program that checks if a number is positive, negative, or zero."
      ],
      "metadata": {
        "id": "3mNBL2VyU-X0"
      }
    },
    {
      "cell_type": "code",
      "source": [
        "def check_number():\n",
        "    try:\n",
        "        num = float(input(\"Enter a number: \"))\n",
        "\n",
        "        if num > 0:\n",
        "            print(\"The number is positive.\")\n",
        "        elif num < 0:\n",
        "            print(\"The number is negative.\")\n",
        "        else:\n",
        "            print(\"The number is zero.\")\n",
        "\n",
        "    except ValueError:\n",
        "        print(\"Invalid input! Please enter a valid number.\")\n",
        "\n",
        "# Run the function\n",
        "check_number()\n"
      ],
      "metadata": {
        "id": "RgweuR5lVEJ6"
      },
      "execution_count": null,
      "outputs": []
    },
    {
      "cell_type": "markdown",
      "source": [
        "12. Write a for loop to print numbers from 1 to 10."
      ],
      "metadata": {
        "id": "df7lFZeNVFRq"
      }
    },
    {
      "cell_type": "code",
      "source": [
        "# Print numbers from 1 to 10 using a for loop\n",
        "for i in range(1, 11):\n",
        "    print(i)\n"
      ],
      "metadata": {
        "id": "UmESX1ZaVKDa"
      },
      "execution_count": null,
      "outputs": []
    },
    {
      "cell_type": "markdown",
      "source": [
        "13. Write a Python program to find the sum of all even numbers between 1 and 50."
      ],
      "metadata": {
        "id": "gcmS7RNlVKoB"
      }
    },
    {
      "cell_type": "code",
      "source": [
        "# Initialize sum\n",
        "even_sum = 0\n",
        "\n",
        "# Loop through numbers 1 to 50\n",
        "for i in range(1, 51):\n",
        "    if i % 2 == 0:\n",
        "        even_sum += i\n",
        "\n",
        "# Print the result\n",
        "print(\"Sum of even numbers from 1 to 50 is:\", even_sum)\n"
      ],
      "metadata": {
        "id": "LQrKPDv0VTQ0"
      },
      "execution_count": null,
      "outputs": []
    },
    {
      "cell_type": "markdown",
      "source": [
        "14. Write a program to reverse a string using a while loop."
      ],
      "metadata": {
        "id": "80BqSoOlVUBp"
      }
    },
    {
      "cell_type": "code",
      "source": [
        "def reverse_string(input_str):\n",
        "    reversed_str = \"\"\n",
        "    index = len(input_str) - 1\n",
        "\n",
        "    while index >= 0:\n",
        "        reversed_str += input_str[index]\n",
        "        index -= 1\n",
        "\n",
        "    return reversed_str\n",
        "\n",
        "# Input from user\n",
        "user_input = input(\"Enter a string: \")\n",
        "\n",
        "# Reverse and print the string\n",
        "print(\"Reversed string:\", reverse_string(user_input))\n"
      ],
      "metadata": {
        "id": "6i_H9ZEOVWma"
      },
      "execution_count": null,
      "outputs": []
    },
    {
      "cell_type": "markdown",
      "source": [
        "15. Write a Python program to calculate the factorial of a number provided by the user using a while loop."
      ],
      "metadata": {
        "id": "ucKoDFJpVb-Z"
      }
    },
    {
      "cell_type": "code",
      "source": [
        "def factorial(n):\n",
        "    result = 1\n",
        "    while n > 1:\n",
        "        result *= n\n",
        "        n -= 1\n",
        "    return result\n",
        "\n",
        "try:\n",
        "    num = int(input(\"Enter a non-negative integer: \"))\n",
        "    if num < 0:\n",
        "        print(\"Factorial is not defined for negative numbers.\")\n",
        "    else:\n",
        "        print(f\"Factorial of {num} is {factorial(num)}\")\n",
        "except ValueError:\n",
        "    print(\"Invalid input! Please enter an integer.\")\n"
      ],
      "metadata": {
        "id": "s27_2d0KVuvc"
      },
      "execution_count": null,
      "outputs": []
    },
    {
      "cell_type": "code",
      "source": [],
      "metadata": {
        "id": "7U_y9dbhVyBN"
      },
      "execution_count": null,
      "outputs": []
    }
  ]
}